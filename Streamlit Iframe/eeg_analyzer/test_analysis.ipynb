{
 "cells": [
  {
   "cell_type": "code",
   "execution_count": 19,
   "id": "2c5a07ec-5309-4bb6-83f7-2cbc6d03bbcc",
   "metadata": {},
   "outputs": [],
   "source": [
    "import pandas as pd\n",
    "import numpy as np\n",
    "import matplotlib.pyplot as plt\n",
    "\n",
    "from vep_tools import VEPAnalysisTools\n",
    "from ssvep_tools import SSVEPAnalysisTools  \n",
    "\n",
    "from main import load_eeg_data, check_equal_length, find_increasing_indices, calculate_diff_list"
   ]
  },
  {
   "cell_type": "code",
   "execution_count": 5,
   "id": "96d74c89-f155-496f-b000-2670698f2367",
   "metadata": {},
   "outputs": [
    {
     "name": "stdout",
     "output_type": "stream",
     "text": [
      "5309625 5309625 5309625\n"
     ]
    }
   ],
   "source": [
    "\"\"\"\n",
    "Load EEG data from a text file.\n",
    "\n",
    "Parameters:\n",
    "file_path (str): Path to the text file containing EEG data.\n",
    "mode (str): The type of data being loaded, 'VEP' or 'SSVEP'.\n",
    "\n",
    "Returns:\n",
    "list: A list of NumPy arrays, each representing a channel.\n",
    "\"\"\"\n",
    "eeg_data = pd.read_csv(\"test_data2.txt\", delimiter=\"\\t\", skiprows=12)\n",
    "\n",
    "eeg_data\n",
    "\n",
    "# # Make sure these indices match the actual columns in your CSV file\n",
    "array_1 = np.array(eeg_data.iloc[:, 0])  # Adjust these indices based on actual column positions\n",
    "array_2 = np.array(eeg_data.iloc[:, 1])\n",
    "array_3 = np.array(eeg_data.iloc[:, 2])\n",
    "\n",
    "print(len(array_1), len(array_2), len(array_3))\n",
    "\n"
   ]
  },
  {
   "cell_type": "code",
   "execution_count": null,
   "id": "d0bdf73f-52e9-43d4-8cae-8ad292a4f780",
   "metadata": {},
   "outputs": [],
   "source": []
  },
  {
   "cell_type": "code",
   "execution_count": null,
   "id": "22636a0d-73b3-44dd-a231-aa3d17268a17",
   "metadata": {},
   "outputs": [],
   "source": []
  },
  {
   "cell_type": "code",
   "execution_count": 6,
   "id": "319c4bf8-88d7-4e6b-9eb6-364b47e67575",
   "metadata": {},
   "outputs": [],
   "source": [
    "eeg_data = pd.read_csv(\"test_data.txt\", delimiter=\"\t\", skiprows=10)"
   ]
  },
  {
   "cell_type": "code",
   "execution_count": 7,
   "id": "3699ddf5-ad94-4448-a799-d3eef3a083f9",
   "metadata": {},
   "outputs": [
    {
     "data": {
      "text/html": [
       "<div>\n",
       "<style scoped>\n",
       "    .dataframe tbody tr th:only-of-type {\n",
       "        vertical-align: middle;\n",
       "    }\n",
       "\n",
       "    .dataframe tbody tr th {\n",
       "        vertical-align: top;\n",
       "    }\n",
       "\n",
       "    .dataframe thead th {\n",
       "        text-align: right;\n",
       "    }\n",
       "</style>\n",
       "<table border=\"1\" class=\"dataframe\">\n",
       "  <thead>\n",
       "    <tr style=\"text-align: right;\">\n",
       "      <th></th>\n",
       "      <th>12000002 samples</th>\n",
       "      <th>12000002 samples.1</th>\n",
       "      <th>Unnamed: 2</th>\n",
       "    </tr>\n",
       "  </thead>\n",
       "  <tbody>\n",
       "    <tr>\n",
       "      <th>0</th>\n",
       "      <td>-10.5133</td>\n",
       "      <td>0.0</td>\n",
       "      <td>NaN</td>\n",
       "    </tr>\n",
       "    <tr>\n",
       "      <th>1</th>\n",
       "      <td>-10.5286</td>\n",
       "      <td>0.0</td>\n",
       "      <td>NaN</td>\n",
       "    </tr>\n",
       "    <tr>\n",
       "      <th>2</th>\n",
       "      <td>-10.5438</td>\n",
       "      <td>0.0</td>\n",
       "      <td>NaN</td>\n",
       "    </tr>\n",
       "    <tr>\n",
       "      <th>3</th>\n",
       "      <td>-10.5591</td>\n",
       "      <td>0.0</td>\n",
       "      <td>NaN</td>\n",
       "    </tr>\n",
       "    <tr>\n",
       "      <th>4</th>\n",
       "      <td>-10.5743</td>\n",
       "      <td>0.0</td>\n",
       "      <td>NaN</td>\n",
       "    </tr>\n",
       "  </tbody>\n",
       "</table>\n",
       "</div>"
      ],
      "text/plain": [
       "   12000002 samples  12000002 samples.1  Unnamed: 2\n",
       "0          -10.5133                 0.0         NaN\n",
       "1          -10.5286                 0.0         NaN\n",
       "2          -10.5438                 0.0         NaN\n",
       "3          -10.5591                 0.0         NaN\n",
       "4          -10.5743                 0.0         NaN"
      ]
     },
     "execution_count": 7,
     "metadata": {},
     "output_type": "execute_result"
    }
   ],
   "source": [
    "eeg_data.head()"
   ]
  },
  {
   "cell_type": "code",
   "execution_count": 8,
   "id": "dea12303-3b64-4832-8c4c-676aa5668129",
   "metadata": {},
   "outputs": [],
   "source": [
    "# Extracting each column into a NumPy array\n",
    "array_1 = np.array(eeg_data['12000002 samples'])\n",
    "array_2 = np.array(eeg_data['12000002 samples.1'])"
   ]
  },
  {
   "cell_type": "code",
   "execution_count": 9,
   "id": "eac06109-bb93-4ccf-9eff-422f238cb0e4",
   "metadata": {},
   "outputs": [
    {
     "ename": "NameError",
     "evalue": "name 'list_channels' is not defined",
     "output_type": "error",
     "traceback": [
      "\u001b[1;31m---------------------------------------------------------------------------\u001b[0m",
      "\u001b[1;31mNameError\u001b[0m                                 Traceback (most recent call last)",
      "Cell \u001b[1;32mIn[9], line 1\u001b[0m\n\u001b[1;32m----> 1\u001b[0m \u001b[43mlist_channels\u001b[49m\n",
      "\u001b[1;31mNameError\u001b[0m: name 'list_channels' is not defined"
     ]
    }
   ],
   "source": [
    "list_channels"
   ]
  },
  {
   "cell_type": "code",
   "execution_count": 10,
   "id": "d545de7d-6be8-4d07-87db-d37e848a16e3",
   "metadata": {},
   "outputs": [
    {
     "name": "stdout",
     "output_type": "stream",
     "text": [
      "Number of channels: 2\n"
     ]
    }
   ],
   "source": [
    "list_channels = [array_1, array_2]\n",
    "\n",
    "# Function to check if all arrays have the same length\n",
    "def check_equal_length(arrays):\n",
    "    if not arrays:\n",
    "        return False\n",
    "    first_length = len(arrays[0])\n",
    "    return all(len(arr) == first_length for arr in arrays)\n",
    "\n",
    "# Check if all arrays in list_channels have the same length\n",
    "if check_equal_length(list_channels):\n",
    "    num_channels = len(list_channels)\n",
    "    print(f\"Number of channels: {num_channels}\")\n",
    "else:\n",
    "    print(\"Error: Not all arrays have the same length.\")\n"
   ]
  },
  {
   "cell_type": "code",
   "execution_count": 11,
   "id": "60bee4a2-03ce-4efb-95a8-a04a443b95d9",
   "metadata": {},
   "outputs": [],
   "source": [
    "# Function to find indices where the previous value is less than the current value\n",
    "def find_increasing_indices(arr):\n",
    "    prev = np.roll(arr, 1)\n",
    "    prev[0] = np.nan  # Replace the first element as there's no previous element\n",
    "    indices = np.where(prev < arr)[0]\n",
    "    return indices\n",
    "\n",
    "# Applying the function to the first array in list_channels\n",
    "indices = find_increasing_indices(list_channels[1])\n",
    "#indices"
   ]
  },
  {
   "cell_type": "code",
   "execution_count": 12,
   "id": "a90d2c0c-739b-4eb6-ad3a-7bf9b7672ae1",
   "metadata": {},
   "outputs": [
    {
     "name": "stdout",
     "output_type": "stream",
     "text": [
      "25000 479\n"
     ]
    }
   ],
   "source": [
    "# Calculate the difference between consecutive indices\n",
    "diff_list = []\n",
    "prev = indices[0]\n",
    "for j in range(1, len(indices)):\n",
    "    diff = indices[j] - prev\n",
    "    prev = indices[j]\n",
    "    diff_list.append(diff)\n",
    "\n",
    "size_row = min(diff_list)  # You can adjust this based on your needs\n",
    "size_col = len(diff_list)\n",
    "print(size_row, size_col)"
   ]
  },
  {
   "cell_type": "code",
   "execution_count": 13,
   "id": "5b27a5f3-bd5a-4486-af4a-0be7f0c85076",
   "metadata": {},
   "outputs": [],
   "source": [
    "# Initialize an array with zeros based on size_row and size_col\n",
    "array_of_values = np.zeros((size_row, size_col))\n",
    "\n",
    "# Extract a subset of the original array using the calculated indices\n",
    "# Note: Adjusting the subset extraction logic based on indices\n",
    "eeg_data = list_channels[0][indices[0]:indices[0] + size_row]"
   ]
  },
  {
   "cell_type": "code",
   "execution_count": 14,
   "id": "56ac9dc5-6853-4bfb-bfa4-acc66e6f0e7c",
   "metadata": {},
   "outputs": [
    {
     "data": {
      "text/plain": [
       "array([-10.7422, -10.7574, -10.7727, ..., -12.619 , -12.6343, -12.6495])"
      ]
     },
     "execution_count": 14,
     "metadata": {},
     "output_type": "execute_result"
    }
   ],
   "source": [
    "eeg_data"
   ]
  },
  {
   "cell_type": "code",
   "execution_count": 15,
   "id": "378618cd-cebc-4ffb-9806-2f69e0c75e83",
   "metadata": {},
   "outputs": [],
   "source": [
    "# Extract the relevant portion of the array\n",
    "eeg_data = list_channels[0][indices[0]:]\n",
    "\n",
    "# Calculate number of columns for reshaping\n",
    "n_col = len(eeg_data) / size_row\n",
    "\n",
    "# Reshape the array\n",
    "reshaped_eeg_array = eeg_data[:int(n_col) * size_row]\n",
    "reshaped_eeg_array = reshaped_eeg_array.reshape(-1, size_row).transpose()"
   ]
  },
  {
   "cell_type": "code",
   "execution_count": 16,
   "id": "864438c1-60c6-4390-84c8-868d8367ec33",
   "metadata": {},
   "outputs": [
    {
     "data": {
      "text/plain": [
       "array([[-10.7422  , -12.6648  ,  -0.808716, ...,  14.0991  ,  -4.28772 ,\n",
       "         -2.73132 ],\n",
       "       [-10.7574  , -12.6801  ,  -0.793457, ...,  14.1754  ,  -4.30298 ,\n",
       "         -2.71606 ],\n",
       "       [-10.7727  , -12.6801  ,  -0.778198, ...,  14.2517  ,  -4.30298 ,\n",
       "         -2.70081 ],\n",
       "       ...,\n",
       "       [-12.619   ,  -0.854492,  11.1847  , ...,  -4.2572  ,  -2.76184 ,\n",
       "         -1.32751 ],\n",
       "       [-12.6343  ,  -0.839233,  11.2152  , ...,  -4.27246 ,  -2.74658 ,\n",
       "         -1.297   ],\n",
       "       [-12.6495  ,  -0.823975,  11.261   , ...,  -4.27246 ,  -2.74658 ,\n",
       "         -1.28174 ]])"
      ]
     },
     "execution_count": 16,
     "metadata": {},
     "output_type": "execute_result"
    }
   ],
   "source": [
    "reshaped_eeg_array"
   ]
  },
  {
   "cell_type": "code",
   "execution_count": 17,
   "id": "b764a112-aff5-48ce-9067-8543cb97a096",
   "metadata": {},
   "outputs": [
    {
     "data": {
      "text/plain": [
       "25000"
      ]
     },
     "execution_count": 17,
     "metadata": {},
     "output_type": "execute_result"
    }
   ],
   "source": [
    "reshaped_eeg_row_mean = np.mean(reshaped_eeg_array, axis =1)\n",
    "len(reshaped_eeg_row_mean)"
   ]
  },
  {
   "cell_type": "code",
   "execution_count": 20,
   "id": "accad368-2a67-492a-ac19-9b248599c524",
   "metadata": {},
   "outputs": [
    {
     "data": {
      "image/png": "[encoded data removed]",
      "text/plain": [
       "<Figure size 1200x500 with 1 Axes>"
      ]
     },
     "metadata": {},
     "output_type": "display_data"
    },
    {
     "name": "stdout",
     "output_type": "stream",
     "text": [
      "The latency of the maximum P100 amplitude is: 129.94 ms\n",
      "The maximum P100 amplitude is: 6.675449133820457 µV\n",
      "The latency of the maximum N75 amplitude is: 67.24000000000001 ms\n",
      "The maximum N75 amplitude is: -3.834670337369523 µV\n",
      "The latency of the maximum N135 amplitude is: 179.98 ms\n",
      "The maximum N135 amplitude is: -0.9935736269311067 µV\n"
     ]
    }
   ],
   "source": [
    "# Function to find amplitude and latency\n",
    "def find_amplitude_latency(data, time_vector, t_min, t_max, peak_type):\n",
    "    start_idx = np.argmax(time_vector >= t_min)\n",
    "    end_idx = np.argmax(time_vector >= t_max)\n",
    "    sliced_data = data[start_idx:end_idx]\n",
    "    time_slice = time_vector[start_idx:end_idx]\n",
    "    \n",
    "    if peak_type == \"negative\":\n",
    "        peak_value = np.min(sliced_data)\n",
    "        peak_idx = np.argmin(sliced_data)\n",
    "    elif peak_type == \"positive\":\n",
    "        peak_value = np.max(sliced_data)\n",
    "        peak_idx = np.argmax(sliced_data)\n",
    "    \n",
    "    latency = time_slice[peak_idx]\n",
    "    \n",
    "    return peak_value, latency\n",
    "\n",
    "# Function to plot VEP plot and display final text outputs\n",
    "def plot_and_display(data, sampling_frequency):\n",
    "    # Reshape the data\n",
    "    reshaped_eeg_row_mean = data\n",
    "    \n",
    "    # Calculate the time vector\n",
    "    length = len(reshaped_eeg_row_mean)\n",
    "    time_vector = np.linspace(0, length / sampling_frequency, length, endpoint=False) * 1000\n",
    "    \n",
    "    # Plot the VEP Plot\n",
    "    plt.figure(figsize=(12, 5))\n",
    "    plt.plot(time_vector, reshaped_eeg_row_mean, marker='o', linestyle='-', color='b')\n",
    "    plt.title(\"VEP Plot\")\n",
    "    plt.xlabel(\"Time (ms)\")\n",
    "    plt.ylabel(\"Voltage (µV)\")\n",
    "    plt.grid(True)\n",
    "    plt.show()\n",
    "\n",
    "    # Find and display amplitude and latency for P100, N75, and N135\n",
    "    t_P100_min, t_P100_max = 80, 130\n",
    "    t_N75_min, t_N75_max = 55, 85\n",
    "    t_N135_min, t_N135_max = 130, 180\n",
    "    \n",
    "    P100_value, latency_P100 = find_amplitude_latency(data, time_vector, t_P100_min, t_P100_max, \"positive\")\n",
    "    N75_value, latency_N75 = find_amplitude_latency(data, time_vector, t_N75_min, t_N75_max, \"negative\")\n",
    "    N135_value, latency_N135 = find_amplitude_latency(data, time_vector, t_N135_min, t_N135_max, \"negative\")\n",
    "    \n",
    "    # Display results\n",
    "    print(f\"The latency of the maximum P100 amplitude is: {latency_P100} ms\")\n",
    "    print(f\"The maximum P100 amplitude is: {P100_value} µV\")\n",
    "    print(f\"The latency of the maximum N75 amplitude is: {latency_N75} ms\")\n",
    "    print(f\"The maximum N75 amplitude is: {N75_value} µV\")\n",
    "    print(f\"The latency of the maximum N135 amplitude is: {latency_N135} ms\")\n",
    "    print(f\"The maximum N135 amplitude is: {N135_value} µV\")\n",
    "\n",
    "# Call the function with your reshaped_eeg_row_mean data and sampling frequency\n",
    "Fs =50000 # 50kHz sampling rate\n",
    "plot_and_display(reshaped_eeg_row_mean, Fs)"
   ]
  },
  {
   "cell_type": "code",
   "execution_count": null,
   "id": "a6660a07-fedb-4b0b-8654-43f24985fe1c",
   "metadata": {},
   "outputs": [],
   "source": []
  },
  {
   "cell_type": "code",
   "execution_count": 21,
   "id": "63667533-74cb-4749-a0ba-de7321101fd0",
   "metadata": {},
   "outputs": [
    {
     "ename": "NameError",
     "evalue": "name 'max_P100_value' is not defined",
     "output_type": "error",
     "traceback": [
      "\u001b[1;31m---------------------------------------------------------------------------\u001b[0m",
      "\u001b[1;31mNameError\u001b[0m                                 Traceback (most recent call last)",
      "Cell \u001b[1;32mIn[21], line 4\u001b[0m\n\u001b[0;32m      1\u001b[0m \u001b[38;5;66;03m# export results as txt\u001b[39;00m\n\u001b[0;32m      3\u001b[0m \u001b[38;5;28;01mwith\u001b[39;00m \u001b[38;5;28mopen\u001b[39m(\u001b[38;5;124m'\u001b[39m\u001b[38;5;124mresults.txt\u001b[39m\u001b[38;5;124m'\u001b[39m, \u001b[38;5;124m'\u001b[39m\u001b[38;5;124mw\u001b[39m\u001b[38;5;124m'\u001b[39m, encoding\u001b[38;5;241m=\u001b[39m\u001b[38;5;124m'\u001b[39m\u001b[38;5;124mutf-8\u001b[39m\u001b[38;5;124m'\u001b[39m) \u001b[38;5;28;01mas\u001b[39;00m f:\n\u001b[1;32m----> 4\u001b[0m     f\u001b[38;5;241m.\u001b[39mwrite(\u001b[38;5;124m'\u001b[39m\u001b[38;5;124mThe maximum P100 amplitude is: \u001b[39m\u001b[38;5;124m'\u001b[39m \u001b[38;5;241m+\u001b[39m \u001b[38;5;28mstr\u001b[39m(\u001b[43mmax_P100_value\u001b[49m) \u001b[38;5;241m+\u001b[39m \u001b[38;5;124m'\u001b[39m\u001b[38;5;124m µV\u001b[39m\u001b[38;5;124m'\u001b[39m \u001b[38;5;241m+\u001b[39m \u001b[38;5;124m'\u001b[39m\u001b[38;5;130;01m\\n\u001b[39;00m\u001b[38;5;124m'\u001b[39m)\n\u001b[0;32m      5\u001b[0m     f\u001b[38;5;241m.\u001b[39mwrite(\u001b[38;5;124m'\u001b[39m\u001b[38;5;124mThe latency of the maximum P100 amplitude is: \u001b[39m\u001b[38;5;124m'\u001b[39m \u001b[38;5;241m+\u001b[39m \u001b[38;5;28mstr\u001b[39m(latency_P100) \u001b[38;5;241m+\u001b[39m \u001b[38;5;124m'\u001b[39m\u001b[38;5;124m ms\u001b[39m\u001b[38;5;124m'\u001b[39m \u001b[38;5;241m+\u001b[39m \u001b[38;5;124m'\u001b[39m\u001b[38;5;130;01m\\n\u001b[39;00m\u001b[38;5;124m'\u001b[39m)\n\u001b[0;32m      7\u001b[0m     f\u001b[38;5;241m.\u001b[39mwrite(\u001b[38;5;124m'\u001b[39m\u001b[38;5;124mThe maximum N75 amplitude is: \u001b[39m\u001b[38;5;124m'\u001b[39m \u001b[38;5;241m+\u001b[39m \u001b[38;5;28mstr\u001b[39m(max_N75_value) \u001b[38;5;241m+\u001b[39m \u001b[38;5;124m'\u001b[39m\u001b[38;5;124m µV\u001b[39m\u001b[38;5;124m'\u001b[39m \u001b[38;5;241m+\u001b[39m \u001b[38;5;124m'\u001b[39m\u001b[38;5;130;01m\\n\u001b[39;00m\u001b[38;5;124m'\u001b[39m)\n",
      "\u001b[1;31mNameError\u001b[0m: name 'max_P100_value' is not defined"
     ]
    }
   ],
   "source": [
    "# export results as txt\n",
    "\n",
    "with open('results.txt', 'w', encoding='utf-8') as f:\n",
    "    f.write('The maximum P100 amplitude is: ' + str(max_P100_value) + ' µV' + '\\n')\n",
    "    f.write('The latency of the maximum P100 amplitude is: ' + str(latency_P100) + ' ms' + '\\n')\n",
    "\n",
    "    f.write('The maximum N75 amplitude is: ' + str(max_N75_value) + ' µV' + '\\n')\n",
    "    f.write('The latency of the maximum N75 amplitude is: ' + str(latency_N75) + ' ms' + '\\n')\n",
    "\n",
    "    f.write('The maximum N135 amplitude is: ' + str(max_N135_value) + ' µV' + '\\n')\n",
    "    f.write('The latency of the maximum N135 amplitude is: ' + str(latency_N135) + ' ms' + '\\n')"
   ]
  },
  {
   "cell_type": "code",
   "execution_count": null,
   "id": "c3a2e7c1-42de-413f-86d7-fcf124e9a2f9",
   "metadata": {},
   "outputs": [],
   "source": []
  }
 ],
 "metadata": {
  "kernelspec": {
   "display_name": "Python 3 (ipykernel)",
   "language": "python",
   "name": "python3"
  },
  "language_info": {
   "codemirror_mode": {
    "name": "ipython",
    "version": 3
   },
   "file_extension": ".py",
   "mimetype": "text/x-python",
   "name": "python",
   "nbconvert_exporter": "python",
   "pygments_lexer": "ipython3",
   "version": "3.11.4"
  }
 },
 "nbformat": 4,
 "nbformat_minor": 5
}
