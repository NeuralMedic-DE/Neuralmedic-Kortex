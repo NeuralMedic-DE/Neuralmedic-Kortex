{
 "cells": [
  {
   "cell_type": "code",
   "execution_count": 11,
   "id": "536c27a6-a488-4ae8-9925-9ac02ba167e2",
   "metadata": {},
   "outputs": [],
   "source": [
    "#!pip install -q -U google-generativeai"
   ]
  },
  {
   "cell_type": "code",
   "execution_count": 1,
   "id": "7e596b95-0237-4729-b60f-1b1436465a72",
   "metadata": {},
   "outputs": [],
   "source": [
    "import pandas as pd\n",
    "import os\n",
    "import configparser\n",
    "\n",
    "import google.generativeai as genai\n",
    "\n",
    "# bringing out our response required\n",
    "from IPython.display import Markdown"
   ]
  },
  {
   "cell_type": "code",
   "execution_count": 2,
   "id": "d826c5d0-5271-4c7d-91af-aa52060bb0a3",
   "metadata": {},
   "outputs": [],
   "source": [
    "# Load environment variables from the .env file\n",
    "config = configparser.ConfigParser()\n",
    "config.read('.ini')\n",
    "\n",
    "# Access the API key from the environment\n",
    "\n",
    "GOOGLE_API_KEY = config['api_key']['GOOGLE_API_KEY']\n",
    "\n",
    "# Configure GenerativeAI using the API key\n",
    "genai.configure(api_key=GOOGLE_API_KEY)"
   ]
  },
  {
   "cell_type": "markdown",
   "id": "89bf3865-7fed-43ed-8cdb-bf30094da6d6",
   "metadata": {},
   "source": [
    "### Test"
   ]
  },
  {
   "cell_type": "code",
   "execution_count": 3,
   "id": "b29e5d52-2df6-4d79-b79a-3e5e392039df",
   "metadata": {},
   "outputs": [
    {
     "data": {
      "text/markdown": [
       "Prioritize regular check-ups and screenings to detect and address health issues early."
      ],
      "text/plain": [
       "<IPython.core.display.Markdown object>"
      ]
     },
     "execution_count": 3,
     "metadata": {},
     "output_type": "execute_result"
    }
   ],
   "source": [
    "model = genai.GenerativeModel('gemini-pro')\n",
    "response = model.generate_content(\"You are a doctor! Give me just a single health tip!\")\n",
    "\n",
    "Markdown(response.text)"
   ]
  },
  {
   "cell_type": "markdown",
   "id": "584a271b-7a8b-4eb5-aad8-ff4b774b4995",
   "metadata": {},
   "source": [
    "### Exp1"
   ]
  },
  {
   "cell_type": "code",
   "execution_count": 30,
   "id": "b7afbea3-45c6-4633-af2e-476ff37326e6",
   "metadata": {},
   "outputs": [],
   "source": [
    "# specify your path\n",
    "path = 'sample_data/'\n",
    "\n",
    "df_list = []\n",
    "\n",
    "# iterate through all files in directory\n",
    "for filename in os.listdir(path):\n",
    "    # check if the file is a csv file\n",
    "    if filename.endswith('.csv'):\n",
    "        # create dataframe from csv\n",
    "        df = pd.read_csv(path + filename)\n",
    "        # append dataframe to list\n",
    "        df_list.append(df)"
   ]
  },
  {
   "cell_type": "code",
   "execution_count": 46,
   "id": "add58be8-5b2e-444e-94df-6d0ba2823148",
   "metadata": {},
   "outputs": [],
   "source": [
    "test_df = df_list[0]\n",
    "#list_of_strings = [f\"{col}: {' '.join(test_df[col].astype(str).values)}\" for col in test_df.columns]\n",
    "list_of_strings = [', '.join(f\"{col}: {value}\" for col, value in row.items()) for index, row in test_df.iterrows()]"
   ]
  },
  {
   "cell_type": "code",
   "execution_count": 42,
   "id": "81841f24-0b69-45ab-b357-e7605376b4e1",
   "metadata": {},
   "outputs": [],
   "source": [
    "#list_of_strings[0]"
   ]
  },
  {
   "cell_type": "code",
   "execution_count": 47,
   "id": "b3a7657c-c2f7-4e20-a0dd-2bbef58276e9",
   "metadata": {},
   "outputs": [
    {
     "data": {
      "text/plain": [
       "'time: 0.0, Fc5.: -16.0, Fc3.: -29.0, Fc1.: 2.0, Fcz.: 22.0, Fc2.: -12.0, Fc4.: -23.0, Fc6.: -46.0, C5..: -36.0, C3..: -26.0, C1..: -18.0, Cz..: -4.0, C2..: -4.0, C4..: -20.0, C6..: -22.0, Cp5.: -32.99999999999999, Cp3.: -39.0, Cp1.: -23.0, Cpz.: -12.0, Cp2.: -16.0, Cp4.: -27.0, Cp6.: -25.0, Fp1.: -49.0, Fpz.: -44.0, Fp2.: -29.0, Af7.: -73.0, Af3.: -67.0, Afz.: -41.0, Af4.: -39.0, Af8.: -62.0, F7..: -39.0, F5..: -42.0, F3..: -16.0, F1..: -36.0, Fz..: -37.99999999999999, F2..: -46.0, F4..: -59.99999999999999, F6..: -69.0, F8..: -25.0, Ft7.: -47.0, Ft8.: -80.0, T7..: -70.99999999999999, T8..: -32.0, T9..: -52.0, T10.: 1.0, Tp7.: -58.0, Tp8.: -30.0, P7..: -56.0, P5..: -42.99999999999999, P3..: -12.0, P1..: -18.0, Pz..: -31.0, P2..: -26.0, P4..: -37.0, P6..: -32.99999999999999, P8..: -30.0, Po7.: -56.0, Po3.: -52.0, Poz.: -35.0, Po4.: -22.0, Po8.: -32.99999999999999, O1..: -53.0, Oz..: -21.0, O2..: -11.0, Iz..: 14.999999999999998, Class: T0, Id: S001R01'"
      ]
     },
     "execution_count": 47,
     "metadata": {},
     "output_type": "execute_result"
    }
   ],
   "source": [
    "prompt0 = list_of_strings[0]\n",
    "# prompt1 = list_of_strings[1]"
   ]
  },
  {
   "cell_type": "code",
   "execution_count": 48,
   "id": "b1f1a86a-80c4-47e1-8dbe-78757e29c15a",
   "metadata": {},
   "outputs": [
    {
     "data": {
      "text/markdown": [
       "**Amplitude:**\n",
       "\n",
       "* High-amplitude slow waves over the frontal regions (F7, F5, F3, F1, Fz, F2, F4, F6, F8, Af7, Af3, Afz, Af4, Af8)\n",
       "* Moderate-amplitude slow waves over the central regions (C5, C3, C1, Cz, C2, C4, C6)\n",
       "* High-amplitude slow waves over the left temporal region (T7, Tp7, P7, Po7, O1)\n",
       "* Moderate-amplitude slow waves over the right temporal region (T8, Tp8, P8, Po8, O2)\n",
       "* Low-amplitude slow waves over the parietal regions (P3, P1, Pz, P2, P4, P6)\n",
       "* Moderate-amplitude slow waves over the occipital regions (Oz, Iz)\n",
       "\n",
       "**Frequency:**\n",
       "\n",
       "* The dominant frequency is in the theta range (4-8 Hz)\n",
       "* There is also some activity in the alpha range (8-12 Hz)\n",
       "\n",
       "**Laterality:**\n",
       "\n",
       "* There is a greater amplitude of slow waves over the left hemisphere compared to the right hemisphere\n",
       "\n",
       "**Reactivity:**\n",
       "\n",
       "* No information is available about the patient's reactivity to stimuli\n",
       "\n",
       "**Interpretation:**\n",
       "\n",
       "The EEG findings are suggestive of **non-specific encephalopathy**. This could be due to a variety of causes, including:\n",
       "\n",
       "* Metabolic disorders (e.g., hypoglycemia, hyperglycemia, electrolyte imbalance)\n",
       "* Anoxia\n",
       "* Infection (e.g., encephalitis, meningitis)\n",
       "* Trauma\n",
       "* Toxins\n",
       "* Drugs\n",
       "* Sleep deprivation"
      ],
      "text/plain": [
       "<IPython.core.display.Markdown object>"
      ]
     },
     "execution_count": 48,
     "metadata": {},
     "output_type": "execute_result"
    }
   ],
   "source": [
    "model = genai.GenerativeModel('gemini-pro')\n",
    "response = model.generate_content(f\"What can you derive from the following EEG data of a patient? Column names with values: {prompt0}\")\n",
    "\n",
    "Markdown(response.text)"
   ]
  },
  {
   "cell_type": "code",
   "execution_count": null,
   "id": "747b36ca-45e2-43d1-bc39-313b09de64bd",
   "metadata": {},
   "outputs": [],
   "source": []
  }
 ],
 "metadata": {
  "kernelspec": {
   "display_name": "Python 3 (ipykernel)",
   "language": "python",
   "name": "python3"
  },
  "language_info": {
   "codemirror_mode": {
    "name": "ipython",
    "version": 3
   },
   "file_extension": ".py",
   "mimetype": "text/x-python",
   "name": "python",
   "nbconvert_exporter": "python",
   "pygments_lexer": "ipython3",
   "version": "3.11.4"
  }
 },
 "nbformat": 4,
 "nbformat_minor": 5
}
